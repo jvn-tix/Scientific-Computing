{
  "nbformat": 4,
  "nbformat_minor": 0,
  "metadata": {
    "colab": {
      "provenance": [],
      "authorship_tag": "ABX9TyPbN5+sqH9vCV0d7tBAuqTx",
      "include_colab_link": true
    },
    "kernelspec": {
      "name": "python3",
      "display_name": "Python 3"
    },
    "language_info": {
      "name": "python"
    }
  },
  "cells": [
    {
      "cell_type": "markdown",
      "metadata": {
        "id": "view-in-github",
        "colab_type": "text"
      },
      "source": [
        "<a href=\"https://colab.research.google.com/github/jvn-tix/Scientific-Computing/blob/main/2802492030_Jevon_Eden_Maska_Lijaya.ipynb\" target=\"_parent\"><img src=\"https://colab.research.google.com/assets/colab-badge.svg\" alt=\"Open In Colab\"/></a>"
      ]
    },
    {
      "cell_type": "markdown",
      "source": [
        "modul"
      ],
      "metadata": {
        "id": "DX1qMYwQqt23"
      }
    },
    {
      "cell_type": "code",
      "execution_count": 5,
      "metadata": {
        "colab": {
          "base_uri": "https://localhost:8080/"
        },
        "id": "_lW7bGHQqmB3",
        "outputId": "9d8f84fb-266e-46e3-ff2d-d352c697989f"
      },
      "outputs": [
        {
          "output_type": "stream",
          "name": "stdout",
          "text": [
            "Masukkan username anda: Jvn\n",
            "Masukkan password anda: Bn123\n",
            "Login berhasil, selamat datang Jvn\n",
            "Masukkan nama siswa: Budi\n",
            "Masukkan nilai UTS: 75\n",
            "Masukkan nilai UAS: 90\n",
            "Masukkan nilai assignment: 98\n",
            "======================\n",
            "Hasil perolehan nilai Budi\n",
            "Final Score: 87.1\n",
            "Grade A-\n"
          ]
        }
      ],
      "source": [
        "def calculate():\n",
        "    name = input(\"Masukkan nama siswa: \")\n",
        "    uts = float(input(\"Masukkan nilai UTS: \"))\n",
        "    uas = float(input(\"Masukkan nilai UAS: \"))\n",
        "    asg = float(input(\"Masukkan nilai assignment: \"))\n",
        "\n",
        "    value = (uas * 1/2) + (uts * 3/10) + (asg * 1/5)\n",
        "    print(\"======================\")\n",
        "    print(\"Hasil perolehan nilai\", name)\n",
        "    print(f\"Final Score: {value:.1f}\")\n",
        "\n",
        "    if 90 < value < 100:\n",
        "      print(\"Grade A\")\n",
        "    elif 85 < value < 89:\n",
        "      print(\"Grade A-\")\n",
        "    elif 80 < value < 84:\n",
        "      print(\"Grade B+\")\n",
        "    elif 75 < value < 79:\n",
        "      print(\"Grade B\")\n",
        "    elif 70 < value < 74:\n",
        "      print(\"Grade B-\")\n",
        "    elif 65 < value < 69:\n",
        "      print(\"Grade C+\")\n",
        "    elif 50 < value < 64:\n",
        "      print(\"Grade D\")\n",
        "    elif 40 < value < 49:\n",
        "      print(\"Grade E\")\n",
        "    else:\n",
        "      print(\"Grade F\")\n",
        "\n",
        "usrname = input(\"Masukkan username anda: \")\n",
        "passwrd = input(\"Masukkan password anda: \")\n",
        "\n",
        "if passwrd == 'Bn123':\n",
        "    print(\"Login berhasil, selamat datang\", usrname)\n",
        "    calculate()\n",
        "else:\n",
        "    print(\"Incorrect Password\")\n"
      ]
    }
  ]
}