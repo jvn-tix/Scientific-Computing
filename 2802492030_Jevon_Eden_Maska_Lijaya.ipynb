{
  "nbformat": 4,
  "nbformat_minor": 0,
  "metadata": {
    "colab": {
      "provenance": [],
      "authorship_tag": "ABX9TyOcSjW9fToigTnQ+j8zhgow",
      "include_colab_link": true
    },
    "kernelspec": {
      "name": "python3",
      "display_name": "Python 3"
    },
    "language_info": {
      "name": "python"
    }
  },
  "cells": [
    {
      "cell_type": "markdown",
      "metadata": {
        "id": "view-in-github",
        "colab_type": "text"
      },
      "source": [
        "<a href=\"https://colab.research.google.com/github/jvn-tix/Scientific-Computing/blob/main/2802492030_Jevon_Eden_Maska_Lijaya.ipynb\" target=\"_parent\"><img src=\"https://colab.research.google.com/assets/colab-badge.svg\" alt=\"Open In Colab\"/></a>"
      ]
    },
    {
      "cell_type": "code",
      "execution_count": 1,
      "metadata": {
        "colab": {
          "base_uri": "https://localhost:8080/"
        },
        "id": "A7Ese7XEHIzg",
        "outputId": "dcdb7559-47c7-44bc-bb14-095baf2ad14b"
      },
      "outputs": [
        {
          "output_type": "stream",
          "name": "stdout",
          "text": [
            "Thu Feb  6 02:40:08 2025\n"
          ]
        }
      ],
      "source": [
        "import time\n",
        "print(time.ctime())"
      ]
    },
    {
      "cell_type": "markdown",
      "source": [
        "sesi1"
      ],
      "metadata": {
        "id": "dxdKZumcIwpk"
      }
    },
    {
      "cell_type": "code",
      "source": [
        "x = 1\n",
        "x"
      ],
      "metadata": {
        "colab": {
          "base_uri": "https://localhost:8080/"
        },
        "id": "M1dFlUgLI0Rj",
        "outputId": "802f45ab-1c5e-4b72-d5b5-071a5e87e262"
      },
      "execution_count": 2,
      "outputs": [
        {
          "output_type": "execute_result",
          "data": {
            "text/plain": [
              "1"
            ]
          },
          "metadata": {},
          "execution_count": 2
        }
      ]
    },
    {
      "cell_type": "code",
      "source": [
        "x = x + 1\n",
        "x"
      ],
      "metadata": {
        "colab": {
          "base_uri": "https://localhost:8080/"
        },
        "id": "K1N0jOs3JNF8",
        "outputId": "68ead669-f31f-4c24-c621-4806bfb2113f"
      },
      "execution_count": 3,
      "outputs": [
        {
          "output_type": "execute_result",
          "data": {
            "text/plain": [
              "2"
            ]
          },
          "metadata": {},
          "execution_count": 3
        }
      ]
    },
    {
      "cell_type": "code",
      "source": [
        "x = 1\n",
        "y = x + 1\n",
        "x = 2\n",
        "y"
      ],
      "metadata": {
        "colab": {
          "base_uri": "https://localhost:8080/"
        },
        "id": "REhIVfv8Jsax",
        "outputId": "764b64bc-d8c9-4c9e-e1d6-6bb815243d08"
      },
      "execution_count": 4,
      "outputs": [
        {
          "output_type": "execute_result",
          "data": {
            "text/plain": [
              "2"
            ]
          },
          "metadata": {},
          "execution_count": 4
        }
      ]
    },
    {
      "cell_type": "code",
      "source": [
        "import numpy as np\n",
        "x = np.array([1, 4, 3])\n",
        "x"
      ],
      "metadata": {
        "colab": {
          "base_uri": "https://localhost:8080/"
        },
        "id": "zRKtOS3hKVlz",
        "outputId": "fff0ce7e-6171-4870-a769-0ff8392d095b"
      },
      "execution_count": 7,
      "outputs": [
        {
          "output_type": "execute_result",
          "data": {
            "text/plain": [
              "array([1, 4, 3])"
            ]
          },
          "metadata": {},
          "execution_count": 7
        }
      ]
    },
    {
      "cell_type": "code",
      "source": [
        "y = np.array([[1, 4, 3], [9, 2, 7]])\n",
        "y"
      ],
      "metadata": {
        "colab": {
          "base_uri": "https://localhost:8080/"
        },
        "id": "VgYfoIyeL18D",
        "outputId": "7b82a292-24b7-4c7f-a87f-e1e0ed25408a"
      },
      "execution_count": 13,
      "outputs": [
        {
          "output_type": "execute_result",
          "data": {
            "text/plain": [
              "array([[1, 4, 3],\n",
              "       [9, 2, 7]])"
            ]
          },
          "metadata": {},
          "execution_count": 13
        }
      ]
    },
    {
      "cell_type": "code",
      "source": [
        "def sum(a, b, c):\n",
        "  pdiddy = a + b + c\n",
        "  return pdiddy"
      ],
      "metadata": {
        "id": "u30qV_j_OFO0"
      },
      "execution_count": 16,
      "outputs": []
    },
    {
      "cell_type": "code",
      "source": [
        "sum(1, 2, 3)"
      ],
      "metadata": {
        "id": "gWDNY9vCOelB",
        "outputId": "b2848ec6-cf9c-4d60-9d48-e62cd4c586d0",
        "colab": {
          "base_uri": "https://localhost:8080/"
        }
      },
      "execution_count": 18,
      "outputs": [
        {
          "output_type": "execute_result",
          "data": {
            "text/plain": [
              "6"
            ]
          },
          "metadata": {},
          "execution_count": 18
        }
      ]
    },
    {
      "cell_type": "code",
      "source": [
        "def thermoStat(temp, desireTemp):\n",
        "  if temp < desireTemp - 5:\n",
        "    status = 'Heat'\n",
        "  elif temp > desireTemp + 5:\n",
        "    status = 'AC'\n",
        "  else:\n",
        "    status = 'Off'\n",
        "  return status"
      ],
      "metadata": {
        "id": "5dfS7OFVQnH6"
      },
      "execution_count": 19,
      "outputs": []
    },
    {
      "cell_type": "code",
      "source": [
        "status = thermoStat(65, 75)\n",
        "print(status)"
      ],
      "metadata": {
        "id": "mVDP-onbRBiH",
        "outputId": "06cec8d0-07c1-40af-9068-f2497438f710",
        "colab": {
          "base_uri": "https://localhost:8080/"
        }
      },
      "execution_count": 24,
      "outputs": [
        {
          "output_type": "stream",
          "name": "stdout",
          "text": [
            "Heat\n"
          ]
        }
      ]
    },
    {
      "cell_type": "code",
      "source": [
        "status = thermoStat(75, 65)\n",
        "print(status)"
      ],
      "metadata": {
        "id": "iX-bba1hRFcx",
        "outputId": "df333253-3cf6-4bb2-99d4-34f37a5756ca",
        "colab": {
          "base_uri": "https://localhost:8080/"
        }
      },
      "execution_count": 25,
      "outputs": [
        {
          "output_type": "stream",
          "name": "stdout",
          "text": [
            "AC\n"
          ]
        }
      ]
    },
    {
      "cell_type": "code",
      "source": [
        "status = thermoStat(65,63)\n",
        "print(status)"
      ],
      "metadata": {
        "id": "TUU5LGirRI57",
        "outputId": "63e1a701-144d-4d2f-95df-600da7a8b737",
        "colab": {
          "base_uri": "https://localhost:8080/"
        }
      },
      "execution_count": 27,
      "outputs": [
        {
          "output_type": "stream",
          "name": "stdout",
          "text": [
            "Off\n"
          ]
        }
      ]
    },
    {
      "cell_type": "code",
      "source": [
        "x = 3\n",
        "if x > 1 and x < 2:\n",
        "  y = 2\n",
        "elif x > 2 and x < 4:\n",
        "  y = 4\n",
        "else:\n",
        "  y = 0\n",
        "print(y)"
      ],
      "metadata": {
        "id": "oa2OqOleSHc6",
        "outputId": "81d7801e-245f-4deb-ec53-7753e6f6d949",
        "colab": {
          "base_uri": "https://localhost:8080/"
        }
      },
      "execution_count": 28,
      "outputs": [
        {
          "output_type": "stream",
          "name": "stdout",
          "text": [
            "4\n"
          ]
        }
      ]
    },
    {
      "cell_type": "code",
      "source": [
        "x = 3\n",
        "if 1 < x < 2:\n",
        "  y = 2\n",
        "elif 2 < x < 4:\n",
        "  y = 4\n",
        "else:\n",
        "  y = 0\n",
        "print(y)"
      ],
      "metadata": {
        "id": "32_rQCBcS9Hz",
        "outputId": "f58bf55b-98cf-4622-af33-0c14b925ecb5",
        "colab": {
          "base_uri": "https://localhost:8080/"
        }
      },
      "execution_count": 29,
      "outputs": [
        {
          "output_type": "stream",
          "name": "stdout",
          "text": [
            "4\n"
          ]
        }
      ]
    },
    {
      "cell_type": "code",
      "source": [
        "val = input(\"Masukkan nama anda: \")\n",
        "val"
      ],
      "metadata": {
        "id": "fq-7xD46T4hI",
        "outputId": "9113b566-d76b-4152-f092-57da10afc6e2",
        "colab": {
          "base_uri": "https://localhost:8080/",
          "height": 53
        }
      },
      "execution_count": 31,
      "outputs": [
        {
          "name": "stdout",
          "output_type": "stream",
          "text": [
            "Masukkan nama anda: 9\n"
          ]
        },
        {
          "output_type": "execute_result",
          "data": {
            "text/plain": [
              "'9'"
            ],
            "application/vnd.google.colaboratory.intrinsic+json": {
              "type": "string"
            }
          },
          "metadata": {},
          "execution_count": 31
        }
      ]
    },
    {
      "cell_type": "markdown",
      "source": [
        "modul\n"
      ],
      "metadata": {
        "id": "OGn7Mz1rWF-T"
      }
    },
    {
      "cell_type": "code",
      "source": [
        "usrname = input(\"Masukkan username anda: \")\n",
        "passwrd = input(\"Masukkan password anda: \")\n",
        "\n",
        "if passwrd == 'Bn123':\n",
        "  print(\"Login berhasil, selamat datang Jevon\")\n",
        "else:\n",
        "  print(\"Incorrect Passsword\")\n",
        "\n",
        "name = input(\"Masukkan nama siswa: \")\n",
        "uts = input(\"Masukkan nilai UTS: \")\n",
        "uas = input(\"Masukkan nilai UAS: \")\n",
        "asg = input(\"Masukkan nilai assignment\")"
      ],
      "metadata": {
        "id": "Bsh-G8dFWHG9",
        "outputId": "dedf928a-75de-49d7-f11e-8b7d6b193898",
        "colab": {
          "base_uri": "https://localhost:8080/"
        }
      },
      "execution_count": 40,
      "outputs": [
        {
          "output_type": "stream",
          "name": "stdout",
          "text": [
            "Masukkan username anda: Jevon\n",
            "Masukkan password anda: Bn123\n",
            "Login berhasil, selamat datang Jevon\n"
          ]
        }
      ]
    }
  ]
}