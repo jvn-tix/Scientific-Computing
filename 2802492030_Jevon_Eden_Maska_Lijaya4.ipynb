{
  "nbformat": 4,
  "nbformat_minor": 0,
  "metadata": {
    "colab": {
      "provenance": [],
      "authorship_tag": "ABX9TyNUQC4Q5sEF7rUuUgPEkPOz",
      "include_colab_link": true
    },
    "kernelspec": {
      "name": "python3",
      "display_name": "Python 3"
    },
    "language_info": {
      "name": "python"
    }
  },
  "cells": [
    {
      "cell_type": "markdown",
      "metadata": {
        "id": "view-in-github",
        "colab_type": "text"
      },
      "source": [
        "<a href=\"https://colab.research.google.com/github/jvn-tix/Scientific-Computing/blob/main/2802492030_Jevon_Eden_Maska_Lijaya4.ipynb\" target=\"_parent\"><img src=\"https://colab.research.google.com/assets/colab-badge.svg\" alt=\"Open In Colab\"/></a>"
      ]
    },
    {
      "cell_type": "code",
      "execution_count": 1,
      "metadata": {
        "id": "cYkVYcz4sBWO"
      },
      "outputs": [],
      "source": [
        "import numpy as np\n",
        "\n",
        "def my_bisection (f, a, b, tol):\n",
        "  #approximate a root, R. of f bounded\n",
        "  #by a and b to within tolerance\n",
        "  #|f(n)|<tol with m the midpoint\n",
        "  #beetwen a and b recursive implementation\n",
        "\n",
        "  #chack if a and b bound a root\n",
        "  if np.sign(f(a)) == np.sign(f(b)):\n",
        "    raise Exception(\n",
        "      \"The scalars a and b do not bound a root\")\n",
        "\n",
        "  m=(a+b)/2\n",
        "  if np.abs(f(m)) < tol:\n",
        "    return m\n",
        "  elif np.sign(f(a)) == np.sign(f(m)):\n",
        "    #case where m is an improvement on a\n",
        "    #make recursive call with a=m\n",
        "    return my_bisection(f, m, b, tol)\n",
        "  elif np.sign(f(b)) == np.sign(f(m)):\n",
        "    #case where m is an improvement on b\n",
        "    #make recursive call with b=m\n",
        "    return my_bisection(f, a, m, tol)"
      ]
    },
    {
      "cell_type": "code",
      "source": [
        "f=lambda x: x**2-2\n",
        "\n",
        "r1=my_bisection(f, 0, 2, 0.1)\n",
        "print(\"r1=\",r1)\n",
        "r01=my_bisection(f, 0, 2, 0.01)\n",
        "print(\"r01=\",r01)\n",
        "\n",
        "print(\"f(r1)=\",f(r1))\n",
        "print(\"f(r01)=\",f(r01))"
      ],
      "metadata": {
        "colab": {
          "base_uri": "https://localhost:8080/"
        },
        "id": "56oKsHDivw2G",
        "outputId": "b41d5f2a-c36e-4840-b5e6-b0c663b184d4"
      },
      "execution_count": 3,
      "outputs": [
        {
          "output_type": "stream",
          "name": "stdout",
          "text": [
            "r1= 1.4375\n",
            "r01= 1.4140625\n",
            "f(r1)= 0.06640625\n",
            "f(r01)= -0.00042724609375\n"
          ]
        }
      ]
    },
    {
      "cell_type": "markdown",
      "source": [
        "Newton Raphson"
      ],
      "metadata": {
        "id": "mvhBaSlIy3L3"
      }
    },
    {
      "cell_type": "code",
      "source": [
        "import numpy as np\n",
        "\n",
        "f=lambda x: x**2-2\n",
        "f_prime=lambda x: 2*x\n",
        "newton_raphson=1.4-(f(1.4))/(f_prime(1.4))\n",
        "\n",
        "print(\"newton_raphson=\",newton_raphson)\n",
        "print(\"sqrt(2)=\",np.sqrt(2))"
      ],
      "metadata": {
        "colab": {
          "base_uri": "https://localhost:8080/"
        },
        "id": "t_Xi1zXdy7X1",
        "outputId": "39c60a1b-0e82-4285-8371-834a599e845e"
      },
      "execution_count": 4,
      "outputs": [
        {
          "output_type": "stream",
          "name": "stdout",
          "text": [
            "newton_raphson= 1.4142857142857144\n",
            "sqrt(2)= 1.4142135623730951\n"
          ]
        }
      ]
    },
    {
      "cell_type": "code",
      "source": [
        "def my_newton(f, df, x0, tol):\n",
        "  if abs(f(x0))<tol:\n",
        "    return x0\n",
        "  else:\n",
        "    return my_newton(f, df, x0-f(x0)/df(x0), tol)"
      ],
      "metadata": {
        "id": "Ea6dRUkZ0mGG"
      },
      "execution_count": 14,
      "outputs": []
    },
    {
      "cell_type": "code",
      "source": [
        "estimate=my_newton(f, f_prime, 1.5, 1e-6)\n",
        "print(\"estimate=\",estimate)\n",
        "print(\"sqrt(2)=\",np.sqrt(2))"
      ],
      "metadata": {
        "colab": {
          "base_uri": "https://localhost:8080/"
        },
        "id": "Y3s03_-W1D-S",
        "outputId": "d1335a76-7626-49f3-963b-1dbd10b57ac7"
      },
      "execution_count": 6,
      "outputs": [
        {
          "output_type": "stream",
          "name": "stdout",
          "text": [
            "estimate= 1.4142135623746899\n",
            "sqrt(2)= 1.4142135623730951\n"
          ]
        }
      ]
    },
    {
      "cell_type": "markdown",
      "source": [
        "Modul\n"
      ],
      "metadata": {
        "id": "EHdffuLY1deW"
      }
    },
    {
      "cell_type": "markdown",
      "source": [
        "Quiz Bisection"
      ],
      "metadata": {
        "id": "95a0FIrG2jHw"
      }
    },
    {
      "cell_type": "code",
      "source": [
        "import numpy as np\n",
        "\n",
        "def my_bisection (f, a, b, tol):\n",
        "  #approximate a root, R. of f bounded\n",
        "  #by a and b to within tolerance\n",
        "  #|f(n)|<tol with m the midpoint\n",
        "  #beetwen a and b recursive implementation\n",
        "\n",
        "  #chack if a and b bound a root\n",
        "  if np.sign(f(a)) == np.sign(f(b)):\n",
        "    raise Exception(\n",
        "      \"The scalars a and b do not bound a root\")\n",
        "\n",
        "  m=(a+b)/2\n",
        "  if np.abs(f(m)) < tol:\n",
        "    return m\n",
        "  elif np.sign(f(a)) == np.sign(f(m)):\n",
        "    #case where m is an improvement on a\n",
        "    #make recursive call with a=m\n",
        "    return my_bisection(f, m, b, tol)\n",
        "  elif np.sign(f(b)) == np.sign(f(m)):\n",
        "    #case where m is an improvement on b\n",
        "    #make recursive call with b=m\n",
        "    return my_bisection(f, a, m, tol)"
      ],
      "metadata": {
        "id": "hpwa3HBJ1frs"
      },
      "execution_count": 7,
      "outputs": []
    },
    {
      "cell_type": "code",
      "source": [
        "f=lambda x: np.sin(x)-x\n",
        "\n",
        "r1=my_bisection(f, 0, 1, 0.01)\n",
        "print(\"r1=\",r1)\n",
        "\n",
        "print(\"f(r1)=\",f(r1))"
      ],
      "metadata": {
        "colab": {
          "base_uri": "https://localhost:8080/"
        },
        "id": "4tNW2wnV10kR",
        "outputId": "f8ec230b-d830-40b3-fd35-c92d9d68c4c1"
      },
      "execution_count": 12,
      "outputs": [
        {
          "output_type": "stream",
          "name": "stdout",
          "text": [
            "r1= 0.25\n",
            "f(r1)= -0.002596040745477063\n"
          ]
        }
      ]
    },
    {
      "cell_type": "markdown",
      "source": [
        "Quiz Newton-Raphson"
      ],
      "metadata": {
        "id": "-0jKv5Yr2u_d"
      }
    },
    {
      "cell_type": "code",
      "source": [
        "import numpy as np\n",
        "\n",
        "f = lambda x: x**3 - 3*x**2 + 2*x\n",
        "f_prime = lambda x: 3*x**2 - 6*x + 2\n",
        "\n",
        "def my_newton(f, df, x0, tol):\n",
        "  if abs(f(x0))<tol:\n",
        "    return x0\n",
        "  else:\n",
        "    return my_newton(f, df, x0-f(x0)/df(x0), tol)\n",
        "\n",
        "\n",
        "\n",
        "estimate = my_newton(f, f_prime, 1.5, 0.01)\n",
        "print(\"estimate=\", estimate)\n",
        "print(\"sqrt(2)=\",f(estimate))"
      ],
      "metadata": {
        "colab": {
          "base_uri": "https://localhost:8080/"
        },
        "id": "WEjbfyKP2zH5",
        "outputId": "6cfbddf2-4511-45df-cc95-47f62e49d5bd"
      },
      "execution_count": 45,
      "outputs": [
        {
          "output_type": "stream",
          "name": "stdout",
          "text": [
            "estimate= 0.0\n",
            "sqrt(2)= 0.0\n"
          ]
        }
      ]
    }
  ]
}