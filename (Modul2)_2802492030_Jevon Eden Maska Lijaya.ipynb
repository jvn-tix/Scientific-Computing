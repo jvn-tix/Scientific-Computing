{
  "nbformat": 4,
  "nbformat_minor": 0,
  "metadata": {
    "colab": {
      "provenance": [],
      "authorship_tag": "ABX9TyNEONMB1HLv+8kKpQsTx0zS",
      "include_colab_link": true
    },
    "kernelspec": {
      "name": "python3",
      "display_name": "Python 3"
    },
    "language_info": {
      "name": "python"
    }
  },
  "cells": [
    {
      "cell_type": "markdown",
      "metadata": {
        "id": "view-in-github",
        "colab_type": "text"
      },
      "source": [
        "<a href=\"https://colab.research.google.com/github/jvn-tix/Scientific-Computing/blob/main/(Modul2)_2802492030_Jevon%20Eden%20Maska%20Lijaya.ipynb\" target=\"_parent\"><img src=\"https://colab.research.google.com/assets/colab-badge.svg\" alt=\"Open In Colab\"/></a>"
      ]
    },
    {
      "cell_type": "markdown",
      "source": [
        "Modul 2"
      ],
      "metadata": {
        "id": "bKbcrOJppg7o"
      }
    },
    {
      "cell_type": "markdown",
      "source": [
        "1"
      ],
      "metadata": {
        "id": "AeOAW_aIt5Qn"
      }
    },
    {
      "cell_type": "code",
      "execution_count": 7,
      "metadata": {
        "colab": {
          "base_uri": "https://localhost:8080/"
        },
        "id": "or0t5ySTpW8f",
        "outputId": "492820cc-2772-4312-8312-d0a2324f1ac4"
      },
      "outputs": [
        {
          "output_type": "stream",
          "name": "stdout",
          "text": [
            "not converged, increase iterations.\n",
            "Gauss-Seidel Result: x1 = 983755514355091646190661395344157386881331125095693339622191569237898515655875968647712210944.0000, x2 = 2951266543065274938571984186032472160643993375287080018866574707713695546967627905943136632832.0000, x3 = -8853799629195825278884309507362198176215920160612871469679662785703342798733219749481928458240.0000\n",
            "\n",
            "NumPy Solution:\n",
            "x1 = 0.6500, x2 = 4.1500, x3 = 3.7500\n"
          ]
        }
      ],
      "source": [
        "import numpy as np\n",
        "\n",
        "A = np.array([[2, 3, -1], [1, -1, 2], [3, 2, 1]])\n",
        "b = np.array([10, 4, 14])\n",
        "\n",
        "x1, x2, x3 = 5, 5, 5\n",
        "epsilon = 0.001\n",
        "converged = False\n",
        "x_old = np.array([x1, x2, x3])\n",
        "\n",
        "for k in range(1, 100):\n",
        "    x1 = (10 - 3*x2 + 1*x3) / 2\n",
        "    x2 = (4 - 1*x1 - 2*x3) / (-1)\n",
        "    x3 = (14 - 3*x1 - 2*x2) / (1)\n",
        "    x_new = np.array([x1, x2, x3])\n",
        "    dx = np.sqrt(np.dot(x_new-x_old, x_new-x_old))\n",
        "\n",
        "    if dx < epsilon:\n",
        "        converged = True\n",
        "        print(f\"converged.\")\n",
        "        break\n",
        "\n",
        "    x_old = x_new\n",
        "\n",
        "if not converged:\n",
        "    print(\"not converged, increase iterations.\")\n",
        "\n",
        "print(f\"Gauss-Seidel Result: x1 = {x1:.4f}, x2 = {x2:.4f}, x3 = {x3:.4f}\")\n",
        "\n",
        "x_numpy = np.linalg.solve(A, b)\n",
        "\n",
        "print(\"\\nNumPy Solution:\")\n",
        "print(f\"x1 = {x_numpy[0]:.4f}, x2 = {x_numpy[1]:.4f}, x3 = {x_numpy[2]:.4f}\")\n"
      ]
    },
    {
      "cell_type": "markdown",
      "source": [
        "2"
      ],
      "metadata": {
        "id": "_9YTTcq9t6eH"
      }
    },
    {
      "cell_type": "code",
      "source": [
        "import numpy as np\n",
        "\n",
        "A = np.array([[3, -0.1, -0.2], [0.1, 7, -0.3], [0.3, -0.2, 10]])\n",
        "b = np.array([7.85, -19.3, 71.4])\n",
        "\n",
        "x1, x2, x3 = 1, 2, 3\n",
        "epsilon = 0.001\n",
        "converged = False\n",
        "x_old = np.array([x1, x2, x3])\n",
        "\n",
        "for k in range(1, 100):\n",
        "    x1 = (7.85 + 0.1*x2 + 0.2*x3) / 3\n",
        "    x2 = (-19.3 - 0.1*x1 + 0.3*x3) / (7)\n",
        "    x3 = (71.4 - 0.3*x1 + 0.2*x2) / (10)\n",
        "    x_new = np.array([x1, x2, x3])\n",
        "    dx = np.sqrt(np.dot(x_new-x_old, x_new-x_old))\n",
        "\n",
        "    if dx < epsilon:\n",
        "        converged = True\n",
        "        print(f\"converged.\")\n",
        "        break\n",
        "\n",
        "    x_old = x_new\n",
        "\n",
        "if not converged:\n",
        "    print(\"not converged, increase iterations.\")\n",
        "\n",
        "print(f\"Gauss-Seidel Result: x1 = {x1:.4f}, x2 = {x2:.4f}, x3 = {x3:.4f}\")\n",
        "\n",
        "x_numpy = np.linalg.solve(A, b)\n",
        "\n",
        "print(\"\\nNumPy Solution:\")\n",
        "print(f\"x1 = {x_numpy[0]:.4f}, x2 = {x_numpy[1]:.4f}, x3 = {x_numpy[2]:.4f}\")\n"
      ],
      "metadata": {
        "colab": {
          "base_uri": "https://localhost:8080/"
        },
        "id": "vQBvkoQQt3_U",
        "outputId": "7c1a2c4f-a400-4297-e131-22117f3f2366"
      },
      "execution_count": 5,
      "outputs": [
        {
          "output_type": "stream",
          "name": "stdout",
          "text": [
            "converged.\n",
            "Gauss-Seidel Result: x1 = 3.0000, x2 = -2.5000, x3 = 7.0000\n",
            "\n",
            "NumPy Solution:\n",
            "x1 = 3.0000, x2 = -2.5000, x3 = 7.0000\n"
          ]
        }
      ]
    },
    {
      "cell_type": "markdown",
      "source": [
        "3"
      ],
      "metadata": {
        "id": "04dIOfN6vyzp"
      }
    },
    {
      "cell_type": "code",
      "source": [
        "import numpy as np\n",
        "import matplotlib.pyplot as plt\n",
        "\n",
        "x = np.array([5, 4, 6, 7, 5])\n",
        "y = np.array([10, 8, 12, 14, 10])\n",
        "\n",
        "n = len(x)\n",
        "sum_x = np.sum(x)\n",
        "sum_y = np.sum(y)\n",
        "sum_xy = np.sum(x * y)\n",
        "sum_x2 = np.sum(x ** 2)\n",
        "\n",
        "a = (n * sum_xy - sum_x * sum_y) / (n * sum_x2 - sum_x**2)\n",
        "b = (sum_y - a * sum_x) / n\n",
        "\n",
        "print(f\"Persamaan regresi: y = {a:.2f}x + {b:.2f}\")\n",
        "\n",
        "x_line = np.linspace(min(x) - 1, max(x) + 1, 100)\n",
        "y_line = a * x_line + b\n",
        "\n",
        "plt.scatter(x, y, color='red', label=\"Data Points\")\n",
        "plt.plot(x_line, y_line, color='blue', label=f\"Regression Line: y = {a:.2f}x + {b:.2f}\")\n",
        "plt.xlabel(\"X\")\n",
        "plt.ylabel(\"Y\")\n",
        "plt.title(\"Regresi Linier dengan Least Squares\")\n",
        "plt.legend()\n",
        "plt.grid(True)\n",
        "plt.show()\n"
      ],
      "metadata": {
        "colab": {
          "base_uri": "https://localhost:8080/",
          "height": 489
        },
        "id": "3Tg7x4kjvyjF",
        "outputId": "42295c0a-7245-4550-8500-0ed5ef0addf4"
      },
      "execution_count": 8,
      "outputs": [
        {
          "output_type": "stream",
          "name": "stdout",
          "text": [
            "Persamaan regresi: y = 2.00x + 0.00\n"
          ]
        },
        {
          "output_type": "display_data",
          "data": {
            "text/plain": [
              "<Figure size 640x480 with 1 Axes>"
            ],
            "image/png": "[encoded data removed]"
          },
          "metadata": {}
        }
      ]
    }
  ]
}